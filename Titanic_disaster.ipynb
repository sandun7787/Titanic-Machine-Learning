{
 "cells": [
  {
   "cell_type": "code",
   "execution_count": 4,
   "id": "371bdcf7-57b5-4cce-8586-2b6825b4669d",
   "metadata": {},
   "outputs": [],
   "source": [
    "\n",
    "# Importing necessary libraries\n",
    "import pandas as pd\n",
    "import numpy as np\n",
    "import matplotlib.pyplot as plt\n",
    "import seaborn as sns\n",
    "from sklearn.model_selection import train_test_split\n",
    "from sklearn.linear_model import LogisticRegression\n",
    "from sklearn.metrics import accuracy_score\n",
    "from sklearn import preprocessing\n",
    "from sklearn.metrics import mean_squared_error\n",
    "from pandas.plotting import scatter_matrix\n",
    "\n",
    "# Importing necessary libraries for data analysis, visualization, and modeling\n"
   ]
  },
  {
   "cell_type": "code",
   "execution_count": 6,
   "id": "2f90a5d6-79ae-4e91-af53-e9e732d16932",
   "metadata": {},
   "outputs": [
    {
     "name": "stdout",
     "output_type": "stream",
     "text": [
      "   PassengerId  Survived  Pclass  \\\n",
      "0            1         0       3   \n",
      "1            2         1       1   \n",
      "2            3         1       3   \n",
      "3            4         1       1   \n",
      "4            5         0       3   \n",
      "\n",
      "                                                Name     Sex   Age  SibSp  \\\n",
      "0                            Braund, Mr. Owen Harris    male  22.0      1   \n",
      "1  Cumings, Mrs. John Bradley (Florence Briggs Th...  female  38.0      1   \n",
      "2                             Heikkinen, Miss. Laina  female  26.0      0   \n",
      "3       Futrelle, Mrs. Jacques Heath (Lily May Peel)  female  35.0      1   \n",
      "4                           Allen, Mr. William Henry    male  35.0      0   \n",
      "\n",
      "   Parch            Ticket     Fare Cabin Embarked  \n",
      "0      0         A/5 21171   7.2500   NaN        S  \n",
      "1      0          PC 17599  71.2833   C85        C  \n",
      "2      0  STON/O2. 3101282   7.9250   NaN        S  \n",
      "3      0            113803  53.1000  C123        S  \n",
      "4      0            373450   8.0500   NaN        S  \n",
      "   PassengerId  Pclass                                          Name     Sex  \\\n",
      "0          892       3                              Kelly, Mr. James    male   \n",
      "1          893       3              Wilkes, Mrs. James (Ellen Needs)  female   \n",
      "2          894       2                     Myles, Mr. Thomas Francis    male   \n",
      "3          895       3                              Wirz, Mr. Albert    male   \n",
      "4          896       3  Hirvonen, Mrs. Alexander (Helga E Lindqvist)  female   \n",
      "\n",
      "    Age  SibSp  Parch   Ticket     Fare Cabin Embarked  \n",
      "0  34.5      0      0   330911   7.8292   NaN        Q  \n",
      "1  47.0      1      0   363272   7.0000   NaN        S  \n",
      "2  62.0      0      0   240276   9.6875   NaN        Q  \n",
      "3  27.0      0      0   315154   8.6625   NaN        S  \n",
      "4  22.0      1      1  3101298  12.2875   NaN        S  \n"
     ]
    }
   ],
   "source": [
    "\n",
    "# Loading training data from a CSV file into a pandas DataFrame and displaying the first few rows\n",
    "train_data = pd.read_csv(\"train.csv\")\n",
    "print(train_data.head())\n",
    "\n",
    "# Loading test data from a CSV file into a pandas DataFrame and displaying the first few rows\n",
    "test_data = pd.read_csv(\"test.csv\")\n",
    "print(test_data.head())\n",
    "\n",
    "# Reading and displaying the first few rows of the training and test datasets"
   ]
  },
  {
   "cell_type": "markdown",
   "id": "17bf5e7d-f4c3-4cb5-a1df-28abc3f2c9d8",
   "metadata": {},
   "source": [
    "# Extracting PassengerId column from the test data to be used later for predictions\n"
   ]
  },
  {
   "cell_type": "code",
   "execution_count": 8,
   "id": "dd8c0399-3c5f-448b-b125-c327464cb026",
   "metadata": {},
   "outputs": [],
   "source": [
    "test_passenger_ids = test_data[\"PassengerId\"]"
   ]
  },
  {
   "cell_type": "code",
   "execution_count": 9,
   "id": "1a6320ba-7edf-4525-8c9c-a79c4ee9d6d6",
   "metadata": {},
   "outputs": [
    {
     "name": "stdout",
     "output_type": "stream",
     "text": [
      "       PassengerId    Survived      Pclass         Age       SibSp  \\\n",
      "count   891.000000  891.000000  891.000000  714.000000  891.000000   \n",
      "mean    446.000000    0.383838    2.308642   29.699118    0.523008   \n",
      "std     257.353842    0.486592    0.836071   14.526497    1.102743   \n",
      "min       1.000000    0.000000    1.000000    0.420000    0.000000   \n",
      "25%     223.500000    0.000000    2.000000   20.125000    0.000000   \n",
      "50%     446.000000    0.000000    3.000000   28.000000    0.000000   \n",
      "75%     668.500000    1.000000    3.000000   38.000000    1.000000   \n",
      "max     891.000000    1.000000    3.000000   80.000000    8.000000   \n",
      "\n",
      "            Parch        Fare  \n",
      "count  891.000000  891.000000  \n",
      "mean     0.381594   32.204208  \n",
      "std      0.806057   49.693429  \n",
      "min      0.000000    0.000000  \n",
      "25%      0.000000    7.910400  \n",
      "50%      0.000000   14.454200  \n",
      "75%      0.000000   31.000000  \n",
      "max      6.000000  512.329200  \n",
      "       PassengerId      Pclass         Age       SibSp       Parch        Fare\n",
      "count   418.000000  418.000000  332.000000  418.000000  418.000000  417.000000\n",
      "mean   1100.500000    2.265550   30.272590    0.447368    0.392344   35.627188\n",
      "std     120.810458    0.841838   14.181209    0.896760    0.981429   55.907576\n",
      "min     892.000000    1.000000    0.170000    0.000000    0.000000    0.000000\n",
      "25%     996.250000    1.000000   21.000000    0.000000    0.000000    7.895800\n",
      "50%    1100.500000    3.000000   27.000000    0.000000    0.000000   14.454200\n",
      "75%    1204.750000    3.000000   39.000000    1.000000    0.000000   31.500000\n",
      "max    1309.000000    3.000000   76.000000    8.000000    9.000000  512.329200\n"
     ]
    }
   ],
   "source": [
    "# Generating descriptive statistics for the training data and storing them in 'x'\n",
    "x = train_data.describe()\n",
    "print(x)\n",
    "\n",
    "# Generating descriptive statistics for the test data and storing them in 'y'\n",
    "y = test_data.describe()\n",
    "print(y)"
   ]
  },
  {
   "cell_type": "markdown",
   "id": "e5bd3de2-93fa-4fda-86cc-c349236d90b9",
   "metadata": {},
   "source": [
    "# Exploratory Data Analysis (EDA) and Data Cleaning function"
   ]
  },
  {
   "cell_type": "code",
   "execution_count": 12,
   "id": "2abcc384-0a1b-40b5-9292-e492f9f27f4a",
   "metadata": {},
   "outputs": [],
   "source": [
    "\n",
    "# Exploratory Data Analysis (EDA) and Data Cleaning function\n",
    "def explore_data(data):\n",
    "    # Displaying general information about the dataset\n",
    "    print(\"Data Info:\")\n",
    "    print(data.info())\n",
    "\n",
    "    # Checking for missing values\n",
    "    print(\"\\nMissing Values:\")\n",
    "    print(data.isnull().sum())\n",
    "\n",
    "    # Displaying summary statistics\n",
    "    print(\"\\nSummary Statistics:\")\n",
    "    print(data.describe())\n",
    "\n",
    "    # Distribution of survival\n",
    "    print(\"\\nSurvival Distribution:\")\n",
    "    print(data['Survived'].value_counts())\n",
    "\n",
    "    # Correlation matrix\n",
    "    print(\"\\nCorrelation Matrix:\")\n",
    "    corr_matrix = data.corr()\n",
    "    print(corr_matrix)\n",
    "    corr_matrix[\"Survived\"].sort_values(ascending=False)\n",
    "    # Visualizing correlation matrix\n",
    "    sns.heatmap(corr_matrix, annot=True, cmap='coolwarm')\n",
    "    \n",
    "    # Creating scatter matrix for selected attributes\n",
    "    attribute = [\"PassengerId\", \"Survived\", \"Pclass\", \"Age\", \"SibSp\", \"Parch\", \"Fare\"]\n",
    "    scatter_matrix(data[attribute], figsize=(12, 8))\n",
    "\n",
    "    # Displaying plots\n",
    "    plt.show()\n",
    "\n",
    "\n"
   ]
  },
  {
   "cell_type": "markdown",
   "id": "98a6e0ec-42a9-4f74-ae3b-b4e12ad5dead",
   "metadata": {},
   "source": [
    "# Exploratory Data Analysis (EDA) and Data Cleaning function for test set\n"
   ]
  },
  {
   "cell_type": "code",
   "execution_count": 13,
   "id": "97e6038e-a57e-4875-8944-ce4f48c8cbe3",
   "metadata": {},
   "outputs": [],
   "source": [
    "\n",
    "# Exploratory Data Analysis (EDA) and Data Cleaning function for test set\n",
    "def explore_data_for_test_set(data):\n",
    "    # Displaying general information about the dataset\n",
    "    print(\"Data Info:\")\n",
    "    print(data.info())\n",
    "\n",
    "    # Checking for missing values\n",
    "    print(\"\\nMissing Values:\")\n",
    "    print(data.isnull().sum())\n",
    "\n",
    "    # Displaying summary statistics\n",
    "    print(\"\\nSummary Statistics:\")\n",
    "    print(data.describe())\n",
    "\n",
    "    # Correlation matrix\n",
    "    print(\"\\nCorrelation Matrix:\")\n",
    "    corr_matrix = data.corr()\n",
    "    print(corr_matrix)\n",
    "    \n",
    "    # Visualizing correlation matrix\n",
    "    sns.heatmap(corr_matrix, annot=True, cmap='coolwarm')\n",
    "    \n",
    "    # Creating scatter matrix for selected attributes\n",
    "    attribute = [\"PassengerId\", \"Pclass\", \"Age\", \"SibSp\", \"Parch\", \"Fare\"]\n",
    "    scatter_matrix(data[attribute], figsize=(12, 8))\n",
    "\n",
    "    # Displaying plots\n",
    "    plt.show()"
   ]
  },
  {
   "cell_type": "markdown",
   "id": "240e88c4-5cd5-44ed-b570-a0d34c585fed",
   "metadata": {},
   "source": [
    "# Function to clean and preprocess the data"
   ]
  },
  {
   "cell_type": "code",
   "execution_count": 14,
   "id": "f831656b-180e-423d-8b72-41ac01c99320",
   "metadata": {},
   "outputs": [],
   "source": [
    "def clean_data(data):\n",
    "    # Drop unnecessary columns\n",
    "    data = data.drop([\"Ticket\", \"PassengerId\", \"Name\", \"Cabin\"], axis=1)\n",
    "    \n",
    "    # Fill missing values\n",
    "    data['Age'].fillna(data['Age'].median(), inplace=True)\n",
    "    data['Fare'].fillna(data['Fare'].median(), inplace=True)\n",
    "    data['Embarked'].fillna(data['Embarked'].mode()[0], inplace=True)\n",
    "    \n",
    "    # Encode categorical variables\n",
    "    label_encoder = preprocessing.LabelEncoder()\n",
    "    data['Sex'] = label_encoder.fit_transform(data['Sex'])\n",
    "    data['Embarked'] = label_encoder.fit_transform(data['Embarked'])\n",
    "\n",
    "    return data"
   ]
  },
  {
   "cell_type": "markdown",
   "id": "09a412d5-28a8-48f4-a765-e20872e3cf3b",
   "metadata": {},
   "source": [
    "# Explore and clean training data"
   ]
  },
  {
   "cell_type": "code",
   "execution_count": 17,
   "id": "47dca1bc-5f19-4293-8b86-b7f2488327a5",
   "metadata": {},
   "outputs": [
    {
     "name": "stdout",
     "output_type": "stream",
     "text": [
      "Training Data Exploration:\n",
      "Data Info:\n",
      "<class 'pandas.core.frame.DataFrame'>\n",
      "Index: 8 entries, count to max\n",
      "Data columns (total 7 columns):\n",
      " #   Column       Non-Null Count  Dtype  \n",
      "---  ------       --------------  -----  \n",
      " 0   PassengerId  8 non-null      float64\n",
      " 1   Survived     8 non-null      float64\n",
      " 2   Pclass       8 non-null      float64\n",
      " 3   Age          8 non-null      float64\n",
      " 4   SibSp        8 non-null      float64\n",
      " 5   Parch        8 non-null      float64\n",
      " 6   Fare         8 non-null      float64\n",
      "dtypes: float64(7)\n",
      "memory usage: 512.0+ bytes\n",
      "None\n",
      "\n",
      "Missing Values:\n",
      "PassengerId    0\n",
      "Survived       0\n",
      "Pclass         0\n",
      "Age            0\n",
      "SibSp          0\n",
      "Parch          0\n",
      "Fare           0\n",
      "dtype: int64\n",
      "\n",
      "Summary Statistics:\n",
      "       PassengerId    Survived      Pclass         Age       SibSp  \\\n",
      "count     8.000000    8.000000    8.000000    8.000000    8.000000   \n",
      "mean    478.044230  111.733804  113.268089  115.596327  112.703219   \n",
      "std     320.815971  314.871366  314.252344  242.905673  314.490828   \n",
      "min       1.000000    0.000000    0.836071    0.420000    0.000000   \n",
      "25%     248.890382    0.000000    1.750000   18.725374    0.000000   \n",
      "50%     446.000000    0.435215    2.654321   28.849559    0.761504   \n",
      "75%     724.125000    1.000000    3.000000   48.500000    2.827058   \n",
      "max     891.000000  891.000000  891.000000  714.000000  891.000000   \n",
      "\n",
      "            Parch        Fare  \n",
      "count    8.000000    8.000000  \n",
      "mean   112.273456  192.323930  \n",
      "std    314.659717  330.625663  \n",
      "min      0.000000    0.000000  \n",
      "25%      0.000000   12.818250  \n",
      "50%      0.190797   31.602104  \n",
      "75%      2.104543  165.352371  \n",
      "max    891.000000  891.000000  \n",
      "\n",
      "Survival Distribution:\n",
      "Survived\n",
      "0.000000      3\n",
      "1.000000      2\n",
      "891.000000    1\n",
      "0.383838      1\n",
      "0.486592      1\n",
      "Name: count, dtype: int64\n",
      "\n",
      "Correlation Matrix:\n",
      "             PassengerId  Survived    Pclass       Age     SibSp     Parch  \\\n",
      "PassengerId     1.000000  0.521032  0.522038  0.595323  0.525557  0.523936   \n",
      "Survived        0.521032  1.000000  0.999997  0.995506  0.999971  0.999983   \n",
      "Pclass          0.522038  0.999997  1.000000  0.995603  0.999969  0.999981   \n",
      "Age             0.595323  0.995506  0.995603  1.000000  0.996106  0.995928   \n",
      "SibSp           0.525557  0.999971  0.999969  0.996106  1.000000  0.999998   \n",
      "Parch           0.523936  0.999983  0.999981  0.995928  0.999998  1.000000   \n",
      "Fare            0.768955  0.854290  0.854411  0.894249  0.858250  0.857221   \n",
      "\n",
      "                 Fare  \n",
      "PassengerId  0.768955  \n",
      "Survived     0.854290  \n",
      "Pclass       0.854411  \n",
      "Age          0.894249  \n",
      "SibSp        0.858250  \n",
      "Parch        0.857221  \n",
      "Fare         1.000000  \n"
     ]
    },
    {
     "data": {
      "image/png": "[encoded data removed]",
      "text/plain": [
       "<Figure size 640x480 with 2 Axes>"
      ]
     },
     "metadata": {},
     "output_type": "display_data"
    },
    {
     "data": {
      "image/png": "[encoded data removed]",
      "text/plain": [
       "<Figure size 1200x800 with 49 Axes>"
      ]
     },
     "metadata": {},
     "output_type": "display_data"
    }
   ],
   "source": [
    "\n",
    "print(\"Training Data Exploration:\")\n",
    "explore_data(x)\n",
    "train_data = clean_data(train_data)"
   ]
  },
  {
   "cell_type": "markdown",
   "id": "902bef50-3b77-432c-9885-b901692fc7bd",
   "metadata": {},
   "source": [
    "# EDA with combined attributes"
   ]
  },
  {
   "cell_type": "code",
   "execution_count": 20,
   "id": "561901ba-597d-4956-ab43-61f5713d7e60",
   "metadata": {},
   "outputs": [
    {
     "data": {
      "text/html": [
       "<div>\n",
       "<style scoped>\n",
       "    .dataframe tbody tr th:only-of-type {\n",
       "        vertical-align: middle;\n",
       "    }\n",
       "\n",
       "    .dataframe tbody tr th {\n",
       "        vertical-align: top;\n",
       "    }\n",
       "\n",
       "    .dataframe thead th {\n",
       "        text-align: right;\n",
       "    }\n",
       "</style>\n",
       "<table border=\"1\" class=\"dataframe\">\n",
       "  <thead>\n",
       "    <tr style=\"text-align: right;\">\n",
       "      <th></th>\n",
       "      <th>Survived</th>\n",
       "      <th>Pclass</th>\n",
       "      <th>Sex</th>\n",
       "      <th>Age</th>\n",
       "      <th>SibSp</th>\n",
       "      <th>Parch</th>\n",
       "      <th>Fare</th>\n",
       "      <th>Embarked</th>\n",
       "      <th>FamilySize</th>\n",
       "    </tr>\n",
       "  </thead>\n",
       "  <tbody>\n",
       "    <tr>\n",
       "      <th>0</th>\n",
       "      <td>0</td>\n",
       "      <td>3</td>\n",
       "      <td>1</td>\n",
       "      <td>22.0</td>\n",
       "      <td>1</td>\n",
       "      <td>0</td>\n",
       "      <td>7.2500</td>\n",
       "      <td>2</td>\n",
       "      <td>2</td>\n",
       "    </tr>\n",
       "    <tr>\n",
       "      <th>1</th>\n",
       "      <td>1</td>\n",
       "      <td>1</td>\n",
       "      <td>0</td>\n",
       "      <td>38.0</td>\n",
       "      <td>1</td>\n",
       "      <td>0</td>\n",
       "      <td>71.2833</td>\n",
       "      <td>0</td>\n",
       "      <td>2</td>\n",
       "    </tr>\n",
       "    <tr>\n",
       "      <th>2</th>\n",
       "      <td>1</td>\n",
       "      <td>3</td>\n",
       "      <td>0</td>\n",
       "      <td>26.0</td>\n",
       "      <td>0</td>\n",
       "      <td>0</td>\n",
       "      <td>7.9250</td>\n",
       "      <td>2</td>\n",
       "      <td>1</td>\n",
       "    </tr>\n",
       "    <tr>\n",
       "      <th>3</th>\n",
       "      <td>1</td>\n",
       "      <td>1</td>\n",
       "      <td>0</td>\n",
       "      <td>35.0</td>\n",
       "      <td>1</td>\n",
       "      <td>0</td>\n",
       "      <td>53.1000</td>\n",
       "      <td>2</td>\n",
       "      <td>2</td>\n",
       "    </tr>\n",
       "    <tr>\n",
       "      <th>4</th>\n",
       "      <td>0</td>\n",
       "      <td>3</td>\n",
       "      <td>1</td>\n",
       "      <td>35.0</td>\n",
       "      <td>0</td>\n",
       "      <td>0</td>\n",
       "      <td>8.0500</td>\n",
       "      <td>2</td>\n",
       "      <td>1</td>\n",
       "    </tr>\n",
       "  </tbody>\n",
       "</table>\n",
       "</div>"
      ],
      "text/plain": [
       "   Survived  Pclass  Sex   Age  SibSp  Parch     Fare  Embarked  FamilySize\n",
       "0         0       3    1  22.0      1      0   7.2500         2           2\n",
       "1         1       1    0  38.0      1      0  71.2833         0           2\n",
       "2         1       3    0  26.0      0      0   7.9250         2           1\n",
       "3         1       1    0  35.0      1      0  53.1000         2           2\n",
       "4         0       3    1  35.0      0      0   8.0500         2           1"
      ]
     },
     "execution_count": 20,
     "metadata": {},
     "output_type": "execute_result"
    }
   ],
   "source": [
    "# Feature Engineering\n",
    "train_data['FamilySize'] = train_data['SibSp'] + train_data['Parch'] + 1\n",
    "test_data['FamilySize'] = test_data['SibSp'] + test_data['Parch'] + 1\n",
    "\n",
    "train_data.head()"
   ]
  },
  {
   "cell_type": "code",
   "execution_count": 21,
   "id": "7c503228-ced7-4488-9f76-85c6cddb22da",
   "metadata": {},
   "outputs": [
    {
     "data": {
      "text/html": [
       "<div>\n",
       "<style scoped>\n",
       "    .dataframe tbody tr th:only-of-type {\n",
       "        vertical-align: middle;\n",
       "    }\n",
       "\n",
       "    .dataframe tbody tr th {\n",
       "        vertical-align: top;\n",
       "    }\n",
       "\n",
       "    .dataframe thead th {\n",
       "        text-align: right;\n",
       "    }\n",
       "</style>\n",
       "<table border=\"1\" class=\"dataframe\">\n",
       "  <thead>\n",
       "    <tr style=\"text-align: right;\">\n",
       "      <th></th>\n",
       "      <th>Pclass</th>\n",
       "      <th>Sex</th>\n",
       "      <th>Age</th>\n",
       "      <th>SibSp</th>\n",
       "      <th>Parch</th>\n",
       "      <th>Fare</th>\n",
       "      <th>Embarked</th>\n",
       "      <th>FamilySize</th>\n",
       "    </tr>\n",
       "  </thead>\n",
       "  <tbody>\n",
       "    <tr>\n",
       "      <th>0</th>\n",
       "      <td>3</td>\n",
       "      <td>1</td>\n",
       "      <td>34.5</td>\n",
       "      <td>0</td>\n",
       "      <td>0</td>\n",
       "      <td>7.8292</td>\n",
       "      <td>1</td>\n",
       "      <td>1</td>\n",
       "    </tr>\n",
       "    <tr>\n",
       "      <th>1</th>\n",
       "      <td>3</td>\n",
       "      <td>0</td>\n",
       "      <td>47.0</td>\n",
       "      <td>1</td>\n",
       "      <td>0</td>\n",
       "      <td>7.0000</td>\n",
       "      <td>2</td>\n",
       "      <td>2</td>\n",
       "    </tr>\n",
       "    <tr>\n",
       "      <th>2</th>\n",
       "      <td>2</td>\n",
       "      <td>1</td>\n",
       "      <td>62.0</td>\n",
       "      <td>0</td>\n",
       "      <td>0</td>\n",
       "      <td>9.6875</td>\n",
       "      <td>1</td>\n",
       "      <td>1</td>\n",
       "    </tr>\n",
       "    <tr>\n",
       "      <th>3</th>\n",
       "      <td>3</td>\n",
       "      <td>1</td>\n",
       "      <td>27.0</td>\n",
       "      <td>0</td>\n",
       "      <td>0</td>\n",
       "      <td>8.6625</td>\n",
       "      <td>2</td>\n",
       "      <td>1</td>\n",
       "    </tr>\n",
       "    <tr>\n",
       "      <th>4</th>\n",
       "      <td>3</td>\n",
       "      <td>0</td>\n",
       "      <td>22.0</td>\n",
       "      <td>1</td>\n",
       "      <td>1</td>\n",
       "      <td>12.2875</td>\n",
       "      <td>2</td>\n",
       "      <td>3</td>\n",
       "    </tr>\n",
       "  </tbody>\n",
       "</table>\n",
       "</div>"
      ],
      "text/plain": [
       "   Pclass  Sex   Age  SibSp  Parch     Fare  Embarked  FamilySize\n",
       "0       3    1  34.5      0      0   7.8292         1           1\n",
       "1       3    0  47.0      1      0   7.0000         2           2\n",
       "2       2    1  62.0      0      0   9.6875         1           1\n",
       "3       3    1  27.0      0      0   8.6625         2           1\n",
       "4       3    0  22.0      1      1  12.2875         2           3"
      ]
     },
     "execution_count": 21,
     "metadata": {},
     "output_type": "execute_result"
    }
   ],
   "source": [
    "test_data.head()"
   ]
  },
  {
   "cell_type": "code",
   "execution_count": 22,
   "id": "9dcc5a19-2c9b-4d30-b0d7-3495e76aed7e",
   "metadata": {},
   "outputs": [
    {
     "name": "stdout",
     "output_type": "stream",
     "text": [
      "            Survived    Pclass       Sex       Age     SibSp     Parch  \\\n",
      "Survived    1.000000 -0.338481 -0.543351 -0.064910 -0.035322  0.081629   \n",
      "Pclass     -0.338481  1.000000  0.131900 -0.339898  0.083081  0.018443   \n",
      "Sex        -0.543351  0.131900  1.000000  0.081163 -0.114631 -0.245489   \n",
      "Age        -0.064910 -0.339898  0.081163  1.000000 -0.233296 -0.172482   \n",
      "SibSp      -0.035322  0.083081 -0.114631 -0.233296  1.000000  0.414838   \n",
      "Parch       0.081629  0.018443 -0.245489 -0.172482  0.414838  1.000000   \n",
      "Fare        0.257307 -0.549500 -0.182333  0.096688  0.159651  0.216225   \n",
      "Embarked   -0.167675  0.162098  0.108262 -0.018754  0.068230  0.039798   \n",
      "FamilySize  0.016639  0.065997 -0.200988 -0.245619  0.890712  0.783111   \n",
      "\n",
      "                Fare  Embarked  FamilySize  \n",
      "Survived    0.257307 -0.167675    0.016639  \n",
      "Pclass     -0.549500  0.162098    0.065997  \n",
      "Sex        -0.182333  0.108262   -0.200988  \n",
      "Age         0.096688 -0.018754   -0.245619  \n",
      "SibSp       0.159651  0.068230    0.890712  \n",
      "Parch       0.216225  0.039798    0.783111  \n",
      "Fare        1.000000 -0.224719    0.217138  \n",
      "Embarked   -0.224719  1.000000    0.066516  \n",
      "FamilySize  0.217138  0.066516    1.000000  \n"
     ]
    }
   ],
   "source": [
    "# Compute correlation matrix for training data\n",
    "corr_matrix = train_data.corr()\n",
    "\n",
    "# Display correlation matrix\n",
    "print(corr_matrix)\n"
   ]
  },
  {
   "cell_type": "code",
   "execution_count": 23,
   "id": "0d1edc3d-a047-473a-a4b6-4fc8da57934c",
   "metadata": {},
   "outputs": [
    {
     "name": "stdout",
     "output_type": "stream",
     "text": [
      "Survived      1.000000\n",
      "Fare          0.257307\n",
      "Parch         0.081629\n",
      "FamilySize    0.016639\n",
      "SibSp        -0.035322\n",
      "Age          -0.064910\n",
      "Embarked     -0.167675\n",
      "Pclass       -0.338481\n",
      "Sex          -0.543351\n",
      "Name: Survived, dtype: float64\n"
     ]
    }
   ],
   "source": [
    "# Sort correlation of each feature with \"Survived\" in descending order\n",
    "corr_sorted = corr_matrix[\"Survived\"].sort_values(ascending=False)\n",
    "\n",
    "# Print the sorted correlation values\n",
    "print(corr_sorted)\n"
   ]
  },
  {
   "cell_type": "markdown",
   "id": "25f82c2a-9710-4f41-83a0-e05403f6505d",
   "metadata": {},
   "source": [
    "# Define features and target variable"
   ]
  },
  {
   "cell_type": "code",
   "execution_count": null,
   "id": "41d64f44-713e-471b-99f3-3ab153a2847b",
   "metadata": {},
   "outputs": [],
   "source": []
  }
 ],
 "metadata": {
  "kernelspec": {
   "display_name": "Python 3 (ipykernel)",
   "language": "python",
   "name": "python3"
  },
  "language_info": {
   "codemirror_mode": {
    "name": "ipython",
    "version": 3
   },
   "file_extension": ".py",
   "mimetype": "text/x-python",
   "name": "python",
   "nbconvert_exporter": "python",
   "pygments_lexer": "ipython3",
   "version": "3.12.1"
  }
 },
 "nbformat": 4,
 "nbformat_minor": 5
}
